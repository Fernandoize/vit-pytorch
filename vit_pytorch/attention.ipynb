{
 "cells": [
  {
   "cell_type": "code",
   "id": "initial_id",
   "metadata": {
    "collapsed": true,
    "ExecuteTime": {
     "end_time": "2024-12-14T03:49:34.971150Z",
     "start_time": "2024-12-14T03:49:34.964403Z"
    }
   },
   "source": [
    "import numpy as np\n",
    "from numpy.random import randn\n",
    "\n",
    "n = 32 # 32个序列\n",
    "d = 256 # 256维度\n",
    "x = randn(d, n)\n",
    "x.shape\n"
   ],
   "outputs": [
    {
     "data": {
      "text/plain": [
       "(256, 32)"
      ]
     },
     "execution_count": 9,
     "metadata": {},
     "output_type": "execute_result"
    }
   ],
   "execution_count": 9
  },
  {
   "metadata": {},
   "cell_type": "markdown",
   "source": "",
   "id": "6c83da80c050fd50"
  },
  {
   "metadata": {
    "ExecuteTime": {
     "end_time": "2024-12-14T03:49:45.200457Z",
     "start_time": "2024-12-14T03:49:45.193508Z"
    }
   },
   "cell_type": "code",
   "source": [
    "# Q, K, V参数矩阵, (256, 256)\n",
    "wq, wk, wv = randn(d, d), randn(d, d), randn(d, d)\n",
    "wq.shape, wk.shape, wv.shape"
   ],
   "id": "4737d0bf79758e26",
   "outputs": [
    {
     "data": {
      "text/plain": [
       "((256, 256), (256, 256), (256, 256))"
      ]
     },
     "execution_count": 11,
     "metadata": {},
     "output_type": "execute_result"
    }
   ],
   "execution_count": 11
  },
  {
   "metadata": {
    "ExecuteTime": {
     "end_time": "2024-12-14T03:50:05.329346Z",
     "start_time": "2024-12-14T03:50:05.286496Z"
    }
   },
   "cell_type": "code",
   "source": [
    "# q, k, v (256, 32)\n",
    "q, k, v = wq@x, wk@x, wv@x\n",
    "q.shape, k.shape, v.shape"
   ],
   "id": "7cf6778a11cd4594",
   "outputs": [
    {
     "data": {
      "text/plain": [
       "((256, 32), (256, 32), (256, 32))"
      ]
     },
     "execution_count": 13,
     "metadata": {},
     "output_type": "execute_result"
    }
   ],
   "execution_count": 13
  },
  {
   "metadata": {
    "ExecuteTime": {
     "end_time": "2024-12-14T03:51:00.188332Z",
     "start_time": "2024-12-14T03:51:00.179709Z"
    }
   },
   "cell_type": "code",
   "source": [
    "# 点乘法相似度计算\n",
    "A = k.T @ q\n",
    "A.shape,v.shape, A"
   ],
   "id": "37cdc7239c274af4",
   "outputs": [
    {
     "data": {
      "text/plain": [
       "((32, 32),\n",
       " (256, 32),\n",
       " array([[ -732.66891071, -8472.4176827 ,  3711.77805307, ...,\n",
       "         10197.57032438,  5222.92549552,  6951.3394169 ],\n",
       "        [-1308.87817759,  7367.19530841,  1674.67180354, ...,\n",
       "         -3569.54412008,  3847.23156104,  2188.1039832 ],\n",
       "        [ 3839.50251184,  -363.10734661, -3172.05425493, ...,\n",
       "          8739.95859637,  2033.54640443,  6338.81982138],\n",
       "        ...,\n",
       "        [ -242.12397722, -3290.2433743 ,  3510.43187706, ...,\n",
       "         -1255.62576572, -2406.5724773 ,  2572.68847053],\n",
       "        [ 4978.2472669 ,  1629.91830642, -4672.44925723, ...,\n",
       "          1690.32594984,   595.42400959, -6710.26318199],\n",
       "        [-5299.44241512,  2422.6729047 , -8947.90701009, ...,\n",
       "          2428.86382326, -2648.97409254,  1740.87328814]]))"
      ]
     },
     "execution_count": 16,
     "metadata": {},
     "output_type": "execute_result"
    }
   ],
   "execution_count": 16
  },
  {
   "metadata": {},
   "cell_type": "markdown",
   "source": [
    "计算Q与K之间的点乘，然后为了防止其结果过大，会除以一个尺度标度 \n",
    "$\\sqrt{d_{k}}$, $d_{k}$为一个query和key向量的维度"
   ],
   "id": "e6d2268eed956027"
  },
  {
   "metadata": {
    "ExecuteTime": {
     "end_time": "2024-12-14T03:53:45.236019Z",
     "start_time": "2024-12-14T03:53:45.228069Z"
    }
   },
   "cell_type": "code",
   "source": [
    "A /= np.sqrt(d)\n",
    "A"
   ],
   "id": "5ed6d8f07ad15b8d",
   "outputs": [
    {
     "data": {
      "text/plain": [
       "array([[ -45.79180692, -529.52610517,  231.98612832, ...,  637.34814527,\n",
       "         326.43284347,  434.45871356],\n",
       "       [ -81.8048861 ,  460.44970678,  104.66698772, ..., -223.09650751,\n",
       "         240.45197256,  136.75649895],\n",
       "       [ 239.96890699,  -22.69420916, -198.25339093, ...,  546.24741227,\n",
       "         127.09665028,  396.17623884],\n",
       "       ...,\n",
       "       [ -15.13274858, -205.64021089,  219.40199232, ...,  -78.47661036,\n",
       "        -150.41077983,  160.79302941],\n",
       "       [ 311.14045418,  101.86989415, -292.02807858, ...,  105.64537187,\n",
       "          37.2140006 , -419.39144887],\n",
       "       [-331.21515095,  151.41705654, -559.24418813, ...,  151.80398895,\n",
       "        -165.56088078,  108.80458051]])"
      ]
     },
     "execution_count": 17,
     "metadata": {},
     "output_type": "execute_result"
    }
   ],
   "execution_count": 17
  },
  {
   "metadata": {
    "ExecuteTime": {
     "end_time": "2024-12-14T03:55:28.775590Z",
     "start_time": "2024-12-14T03:55:28.770427Z"
    }
   },
   "cell_type": "code",
   "source": [
    "def softmax(x):\n",
    "    e_x = np.exp(x - np.max(x))  # 防溢出\n",
    "    return e_x / e_x.sum(axis=0)\n"
   ],
   "id": "e2267602f5ff5500",
   "outputs": [],
   "execution_count": 18
  },
  {
   "metadata": {
    "ExecuteTime": {
     "end_time": "2024-12-14T03:56:00.884033Z",
     "start_time": "2024-12-14T03:56:00.879889Z"
    }
   },
   "cell_type": "code",
   "source": [
    "A_hat = softmax(A)\n",
    "A_hat"
   ],
   "id": "7af0fd4457ae580f",
   "outputs": [
    {
     "data": {
      "text/plain": [
       "array([[0.00000000e+000, 0.00000000e+000, 2.57991337e-171, ...,\n",
       "        1.00000000e+000, 6.50832245e-067, 1.00000000e+000],\n",
       "       [0.00000000e+000, 1.00000000e+000, 1.31100673e-226, ...,\n",
       "        0.00000000e+000, 2.96791377e-104, 5.12354962e-130],\n",
       "       [1.82280441e-126, 0.00000000e+000, 0.00000000e+000, ...,\n",
       "        2.72555130e-040, 1.74928396e-153, 2.36664150e-017],\n",
       "       ...,\n",
       "       [0.00000000e+000, 0.00000000e+000, 8.83861666e-177, ...,\n",
       "        0.00000000e+000, 0.00000000e+000, 1.40767853e-119],\n",
       "       [1.47962031e-095, 1.86537458e-156, 0.00000000e+000, ...,\n",
       "        1.21456146e-231, 0.00000000e+000, 0.00000000e+000],\n",
       "       [0.00000000e+000, 6.14929427e-135, 0.00000000e+000, ...,\n",
       "        1.35161247e-211, 0.00000000e+000, 3.71712365e-142]])"
      ]
     },
     "execution_count": 21,
     "metadata": {},
     "output_type": "execute_result"
    }
   ],
   "execution_count": 21
  },
  {
   "metadata": {
    "ExecuteTime": {
     "end_time": "2024-12-14T03:56:13.843450Z",
     "start_time": "2024-12-14T03:56:13.836368Z"
    }
   },
   "cell_type": "code",
   "source": [
    "output = v @ A_hat\n",
    "output, output.shape"
   ],
   "id": "1569a773bf3e6ab",
   "outputs": [
    {
     "data": {
      "text/plain": [
       "(array([[ 27.58908341,  18.75863463, -25.88234845, ...,   2.6919639 ,\n",
       "         -44.38314028,   2.6919639 ],\n",
       "        [ -7.98291035,  21.47241536,  26.31114057, ..., -11.05100869,\n",
       "          11.36196103, -11.05100869],\n",
       "        [ 19.50827166,  15.27661364,   5.86700709, ...,   0.40453767,\n",
       "           8.61082295,   0.40453767],\n",
       "        ...,\n",
       "        [ 12.94247054,   2.67552343,  36.90241521, ...,  -4.05490688,\n",
       "         -15.62833438,  -4.05490688],\n",
       "        [ 17.37422847, -27.89108878,  -6.05616558, ...,  -8.31898505,\n",
       "          18.16583656,  -8.31898505],\n",
       "        [ -5.33219367,  22.46682346, -14.92224288, ...,  -8.46626958,\n",
       "          38.38477197,  -8.46626958]]),\n",
       " (256, 32))"
      ]
     },
     "execution_count": 23,
     "metadata": {},
     "output_type": "execute_result"
    }
   ],
   "execution_count": 23
  },
  {
   "metadata": {
    "ExecuteTime": {
     "end_time": "2024-12-14T03:59:06.148667Z",
     "start_time": "2024-12-14T03:59:06.143433Z"
    }
   },
   "cell_type": "code",
   "source": [
    "from math import sqrt\n",
    "import torch\n",
    "import torch.nn as nn"
   ],
   "id": "5db2a8b927ff64ef",
   "outputs": [],
   "execution_count": 30
  },
  {
   "metadata": {
    "ExecuteTime": {
     "end_time": "2024-12-14T04:13:44.644283Z",
     "start_time": "2024-12-14T04:13:44.624007Z"
    }
   },
   "cell_type": "code",
   "source": [
    "class Self_Attention(nn.Module):\n",
    "    # input : batch_size * seq_len * input_dim\n",
    "    # q : batch_size * input_dim * dim_k\n",
    "    # k : batch_size * input_dim * dim_k\n",
    "    # v : batch_size * input_dim * dim_v\n",
    "    def __init__(self,input_dim,dim_k,dim_v):\n",
    "        super(Self_Attention,self).__init__()\n",
    "        self.q = nn.Linear(input_dim,dim_k)\n",
    "        self.k = nn.Linear(input_dim,dim_k)\n",
    "        self.v = nn.Linear(input_dim,dim_v)\n",
    "        self._norm_fact = 1 / sqrt(dim_k)\n",
    "        \n",
    "    \n",
    "    def forward(self,x):\n",
    "        print(self.q.weight.shape)\n",
    "        print(self.k.weight.shape)\n",
    "        print(self.v.weight.shape)\n",
    "        Q = self.q(x) # Q: batch_size * seq_len * dim_k\n",
    "        K = self.k(x) # K: batch_size * seq_len * dim_k\n",
    "        V = self.v(x) # V: batch_size * seq_len * dim_v\n",
    "        print(Q.shape, K.shape , V.shape)\n",
    "         \n",
    "        # K.permute(0,2,1)# 将K的维度索引1和维度索引2交换位置, 也就是转置\n",
    "        # torch.bmm# 两个tensor的矩阵乘法        \n",
    "        atten = nn.Softmax(dim=-1)(torch.bmm(Q,K.permute(0,2,1))) * self._norm_fact # Q * K.T() # batch_size * seq_len * seq_len\n",
    "        \n",
    "        output = torch.bmm(atten,V) # Q * K.T() * V # batch_size * seq_len * dim_v\n",
    "        \n",
    "        return output\n"
   ],
   "id": "b376dc3d8c61201c",
   "outputs": [],
   "execution_count": 86
  },
  {
   "metadata": {},
   "cell_type": "markdown",
   "source": "注意：此处的randn 第一个为样本的个数，第二个为序列的个数，第三个为单个序列的维度也就是input_dim",
   "id": "c56d3ee150a1b8b8"
  },
  {
   "metadata": {
    "ExecuteTime": {
     "end_time": "2024-12-14T04:13:45.076831Z",
     "start_time": "2024-12-14T04:13:45.074277Z"
    }
   },
   "cell_type": "code",
   "source": [
    "x = torch.randn(1, 32, 64)\n",
    "print(x.shape)"
   ],
   "id": "1ac6eb544896b22b",
   "outputs": [
    {
     "name": "stdout",
     "output_type": "stream",
     "text": [
      "torch.Size([1, 32, 64])\n"
     ]
    }
   ],
   "execution_count": 87
  },
  {
   "metadata": {
    "ExecuteTime": {
     "end_time": "2024-12-14T04:16:20.721641Z",
     "start_time": "2024-12-14T04:16:20.715264Z"
    }
   },
   "cell_type": "code",
   "source": [
    "self_attention = Self_Attention(input_dim=64,dim_k=d,dim_v=d * 2)\n",
    "o = self_attention(x)\n",
    "o.shape"
   ],
   "id": "fc38ff2b7e6318c2",
   "outputs": [
    {
     "name": "stdout",
     "output_type": "stream",
     "text": [
      "torch.Size([256, 64])\n",
      "torch.Size([256, 64])\n",
      "torch.Size([512, 64])\n",
      "torch.Size([1, 32, 256]) torch.Size([1, 32, 256]) torch.Size([1, 32, 512])\n"
     ]
    },
    {
     "data": {
      "text/plain": [
       "torch.Size([1, 32, 512])"
      ]
     },
     "execution_count": 90,
     "metadata": {},
     "output_type": "execute_result"
    }
   ],
   "execution_count": 90
  },
  {
   "metadata": {
    "ExecuteTime": {
     "end_time": "2024-12-14T04:16:10.904134Z",
     "start_time": "2024-12-14T04:16:10.902573Z"
    }
   },
   "cell_type": "code",
   "source": "",
   "id": "48437cbaa6573500",
   "outputs": [],
   "execution_count": 89
  },
  {
   "metadata": {},
   "cell_type": "code",
   "outputs": [],
   "execution_count": null,
   "source": "",
   "id": "3f1b545ff41f5807"
  }
 ],
 "metadata": {
  "kernelspec": {
   "display_name": "Python 3",
   "language": "python",
   "name": "python3"
  },
  "language_info": {
   "codemirror_mode": {
    "name": "ipython",
    "version": 2
   },
   "file_extension": ".py",
   "mimetype": "text/x-python",
   "name": "python",
   "nbconvert_exporter": "python",
   "pygments_lexer": "ipython2",
   "version": "2.7.6"
  }
 },
 "nbformat": 4,
 "nbformat_minor": 5
}
